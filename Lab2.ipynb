{
 "cells": [
  {
   "cell_type": "markdown",
   "metadata": {},
   "source": [
    "---\n",
    "                                            Московский Авиационный Институт  \n",
    "                                      (Национальный Исследовательский Университет)  \n",
    "        \n",
    "                \n",
    "                \n",
    "    Кафедра 806 «Вычислительная математика и программирование»  \n",
    "    Институт: «Информационные технологии и прикладная математика»  \n",
    "    Дисциплина: «Разработка ПО для высокопроизводительных систем»        \n",
    "                \n",
    "\n",
    "\n",
    "                                            -------------------------------\n",
    "                                            Лабораторная работа по NumPy №2  \n",
    "                                            -------------------------------    \n",
    "                                            \n",
    "                                            \n",
    "                                            \n",
    "                                                                                Группа: М8О-103М-20  \n",
    "                                                                                Студент: Ларин Антон Владимирович  \n",
    "                                                                                Преподаватель: Поповкин Александр Викторович  \n",
    "                                                                                \n",
    "                                                                                \n",
    "                                                                                \n",
    "                                                     Москва, 2020  \n",
    "                                                         \n",
    "---"
   ]
  },
  {
   "cell_type": "markdown",
   "metadata": {},
   "source": [
    "Импорт необходимых библиотек и установка настроек вывода данных:"
   ]
  },
  {
   "cell_type": "code",
   "execution_count": 2,
   "metadata": {},
   "outputs": [],
   "source": [
    "import numpy as np\n",
    "import sys\n",
    "import scipy.spatial\n",
    "np.set_printoptions(linewidth=200, precision=3)"
   ]
  },
  {
   "cell_type": "markdown",
   "metadata": {},
   "source": [
    "Перемножить матрицы 5x3 и 3x2:"
   ]
  },
  {
   "cell_type": "code",
   "execution_count": 192,
   "metadata": {},
   "outputs": [
    {
     "name": "stdout",
     "output_type": "stream",
     "text": [
      "[[ 6 12]\n",
      " [ 6 12]\n",
      " [ 6 12]\n",
      " [ 6 12]\n",
      " [ 6 12]]\n"
     ]
    }
   ],
   "source": [
    "a = np.array(([1,2,3],[1,2,3],[1,2,3],[1,2,3],[1,2,3]))\n",
    "b = np.array(([1,2],[1,2],[1,2]))\n",
    "print(a.dot(b))"
   ]
  },
  {
   "cell_type": "markdown",
   "metadata": {},
   "source": [
    "Дан массив, поменять знак у элементов, значения которых между 3 и 8:"
   ]
  },
  {
   "cell_type": "code",
   "execution_count": 193,
   "metadata": {},
   "outputs": [
    {
     "name": "stdout",
     "output_type": "stream",
     "text": [
      "[0 1 2 3 4 5 6 7 8 9]\n",
      "[ 0  1  2  3 -4 -5 -6 -7  8  9]\n"
     ]
    }
   ],
   "source": [
    "a = np.arange(10)\n",
    "print(a)\n",
    "a[(3 < a) & (a < 8)] *= -1\n",
    "print(a)"
   ]
  },
  {
   "cell_type": "markdown",
   "metadata": {},
   "source": [
    "Создать 5x5 матрицу со значениями в строках от 0 до 4:"
   ]
  },
  {
   "cell_type": "code",
   "execution_count": 194,
   "metadata": {},
   "outputs": [
    {
     "name": "stdout",
     "output_type": "stream",
     "text": [
      "[[0. 1. 2. 3. 4.]\n",
      " [0. 1. 2. 3. 4.]\n",
      " [0. 1. 2. 3. 4.]\n",
      " [0. 1. 2. 3. 4.]\n",
      " [0. 1. 2. 3. 4.]]\n"
     ]
    }
   ],
   "source": [
    "a = np.zeros((5,5)) + np.arange(5)\n",
    "print(a)"
   ]
  },
  {
   "cell_type": "markdown",
   "metadata": {},
   "source": [
    "Есть генератор, сделать с его помощью массив:"
   ]
  },
  {
   "cell_type": "code",
   "execution_count": 195,
   "metadata": {},
   "outputs": [
    {
     "name": "stdout",
     "output_type": "stream",
     "text": [
      "[0 1 2 3 4 5 6 7 8 9]\n"
     ]
    }
   ],
   "source": [
    "def gen(n):\n",
    "    for x in range(n):\n",
    "        yield x\n",
    "        \n",
    "a = np.fromiter(gen(10),dtype=int)\n",
    "print(a)"
   ]
  },
  {
   "cell_type": "markdown",
   "metadata": {},
   "source": [
    "Создать вектор размера 10 со значениями от 0 до 1, не включая ни то, ни другое:"
   ]
  },
  {
   "cell_type": "code",
   "execution_count": 196,
   "metadata": {},
   "outputs": [
    {
     "name": "stdout",
     "output_type": "stream",
     "text": [
      "[0.091 0.182 0.273 0.364 0.455 0.545 0.636 0.727 0.818 0.909]\n"
     ]
    }
   ],
   "source": [
    "a = np.linspace(0,1,12)[1:-1]\n",
    "print(a)"
   ]
  },
  {
   "cell_type": "markdown",
   "metadata": {},
   "source": [
    "Отсортировать вектор:"
   ]
  },
  {
   "cell_type": "code",
   "execution_count": 197,
   "metadata": {},
   "outputs": [
    {
     "name": "stdout",
     "output_type": "stream",
     "text": [
      "[0.722 0.267 0.794 0.936 0.042 0.867 0.333 0.765 0.085 0.723]\n",
      "[0.042 0.085 0.267 0.333 0.722 0.723 0.765 0.794 0.867 0.936]\n"
     ]
    }
   ],
   "source": [
    "a = np.random.sample(10)\n",
    "print(a)\n",
    "a.sort()\n",
    "print(a)"
   ]
  },
  {
   "cell_type": "markdown",
   "metadata": {},
   "source": [
    "Проверить, одинаковы ли 2 numpy массива:"
   ]
  },
  {
   "cell_type": "code",
   "execution_count": 198,
   "metadata": {},
   "outputs": [
    {
     "name": "stdout",
     "output_type": "stream",
     "text": [
      "True\n",
      "False\n"
     ]
    }
   ],
   "source": [
    "a = np.array([1,2,3])\n",
    "b = np.array([1,2,3])\n",
    "c = np.array([-1,-2,-3])\n",
    "print(np.allclose(a,b))\n",
    "print(np.allclose(a,c))"
   ]
  },
  {
   "cell_type": "markdown",
   "metadata": {},
   "source": [
    "Сделать массив неизменяемым:"
   ]
  },
  {
   "cell_type": "code",
   "execution_count": 199,
   "metadata": {},
   "outputs": [
    {
     "ename": "ValueError",
     "evalue": "assignment destination is read-only",
     "output_type": "error",
     "traceback": [
      "\u001b[1;31m---------------------------------------------------------------------------\u001b[0m",
      "\u001b[1;31mValueError\u001b[0m                                Traceback (most recent call last)",
      "\u001b[1;32m<ipython-input-199-a3d26ac70173>\u001b[0m in \u001b[0;36m<module>\u001b[1;34m\u001b[0m\n\u001b[0;32m      1\u001b[0m \u001b[0ma\u001b[0m \u001b[1;33m=\u001b[0m \u001b[0mnp\u001b[0m\u001b[1;33m.\u001b[0m\u001b[0mones\u001b[0m\u001b[1;33m(\u001b[0m\u001b[1;36m5\u001b[0m\u001b[1;33m)\u001b[0m\u001b[1;33m\u001b[0m\u001b[1;33m\u001b[0m\u001b[0m\n\u001b[0;32m      2\u001b[0m \u001b[0ma\u001b[0m\u001b[1;33m.\u001b[0m\u001b[0mflags\u001b[0m\u001b[1;33m.\u001b[0m\u001b[0mwriteable\u001b[0m \u001b[1;33m=\u001b[0m \u001b[1;32mFalse\u001b[0m\u001b[1;33m\u001b[0m\u001b[1;33m\u001b[0m\u001b[0m\n\u001b[1;32m----> 3\u001b[1;33m \u001b[0ma\u001b[0m\u001b[1;33m[\u001b[0m\u001b[1;36m0\u001b[0m\u001b[1;33m]\u001b[0m \u001b[1;33m=\u001b[0m \u001b[1;36m0\u001b[0m\u001b[1;33m\u001b[0m\u001b[1;33m\u001b[0m\u001b[0m\n\u001b[0m",
      "\u001b[1;31mValueError\u001b[0m: assignment destination is read-only"
     ]
    }
   ],
   "source": [
    "a = np.ones(5)\n",
    "a.flags.writeable = False\n",
    "a[0] = 0"
   ]
  },
  {
   "cell_type": "markdown",
   "metadata": {},
   "source": [
    "Дан массив 10x2 (точки в декартовой системе координат), преобразовать в полярную:"
   ]
  },
  {
   "cell_type": "code",
   "execution_count": 200,
   "metadata": {},
   "outputs": [
    {
     "name": "stdout",
     "output_type": "stream",
     "text": [
      "[[1. 1.]\n",
      " [1. 1.]\n",
      " [1. 1.]\n",
      " [1. 1.]\n",
      " [1. 1.]\n",
      " [1. 1.]\n",
      " [1. 1.]\n",
      " [1. 1.]\n",
      " [1. 1.]\n",
      " [1. 1.]]\n",
      "[1.414 1.414 1.414 1.414 1.414 1.414 1.414 1.414 1.414 1.414]\n",
      "[0.785 0.785 0.785 0.785 0.785 0.785 0.785 0.785 0.785 0.785]\n"
     ]
    }
   ],
   "source": [
    "a = np.ones((10,2))\n",
    "print(a)\n",
    "x, y = a[:,0], a[:,1]\n",
    "r = np.hypot(x, y)\n",
    "t = np.arctan2(y, x)\n",
    "print(r)\n",
    "print(t)"
   ]
  },
  {
   "cell_type": "markdown",
   "metadata": {},
   "source": [
    "Заменить максимальный элемент на ноль:"
   ]
  },
  {
   "cell_type": "code",
   "execution_count": 201,
   "metadata": {},
   "outputs": [
    {
     "name": "stdout",
     "output_type": "stream",
     "text": [
      "[0.75  0.031 0.438 0.558 0.726]\n",
      "[0.    0.031 0.438 0.558 0.726]\n"
     ]
    }
   ],
   "source": [
    "a = np.random.sample(5)\n",
    "print(a)\n",
    "a[a.argmax()] = 0\n",
    "print(a)"
   ]
  },
  {
   "cell_type": "markdown",
   "metadata": {},
   "source": [
    "Создать структурированный массив с координатами x, y на сетке в квадрате [0,1]x[0,1]:"
   ]
  },
  {
   "cell_type": "code",
   "execution_count": 202,
   "metadata": {},
   "outputs": [
    {
     "name": "stdout",
     "output_type": "stream",
     "text": [
      "[[(0.   , 0.   ) (0.143, 0.   ) (0.286, 0.   ) (0.429, 0.   ) (0.571, 0.   ) (0.714, 0.   ) (0.857, 0.   ) (1.   , 0.   )]\n",
      " [(0.   , 0.143) (0.143, 0.143) (0.286, 0.143) (0.429, 0.143) (0.571, 0.143) (0.714, 0.143) (0.857, 0.143) (1.   , 0.143)]\n",
      " [(0.   , 0.286) (0.143, 0.286) (0.286, 0.286) (0.429, 0.286) (0.571, 0.286) (0.714, 0.286) (0.857, 0.286) (1.   , 0.286)]\n",
      " [(0.   , 0.429) (0.143, 0.429) (0.286, 0.429) (0.429, 0.429) (0.571, 0.429) (0.714, 0.429) (0.857, 0.429) (1.   , 0.429)]\n",
      " [(0.   , 0.571) (0.143, 0.571) (0.286, 0.571) (0.429, 0.571) (0.571, 0.571) (0.714, 0.571) (0.857, 0.571) (1.   , 0.571)]\n",
      " [(0.   , 0.714) (0.143, 0.714) (0.286, 0.714) (0.429, 0.714) (0.571, 0.714) (0.714, 0.714) (0.857, 0.714) (1.   , 0.714)]\n",
      " [(0.   , 0.857) (0.143, 0.857) (0.286, 0.857) (0.429, 0.857) (0.571, 0.857) (0.714, 0.857) (0.857, 0.857) (1.   , 0.857)]\n",
      " [(0.   , 1.   ) (0.143, 1.   ) (0.286, 1.   ) (0.429, 1.   ) (0.571, 1.   ) (0.714, 1.   ) (0.857, 1.   ) (1.   , 1.   )]]\n"
     ]
    }
   ],
   "source": [
    "n = 8\n",
    "a = np.zeros((n, n), [('x', float), ('y', float)])\n",
    "a['x'], a['y'] = np.meshgrid(np.linspace(0, 1, n),\n",
    "                             np.linspace(0, 1, n))\n",
    "print(a)"
   ]
  },
  {
   "cell_type": "markdown",
   "metadata": {},
   "source": [
    "Из двух массивов сделать матрицу Коши C (Cij = 1/(xi - yj)):"
   ]
  },
  {
   "cell_type": "code",
   "execution_count": 203,
   "metadata": {},
   "outputs": [
    {
     "name": "stdout",
     "output_type": "stream",
     "text": [
      "[[-0.1   -0.091 -0.083 -0.077 -0.071 -0.067 -0.062 -0.059]\n",
      " [-0.111 -0.1   -0.091 -0.083 -0.077 -0.071 -0.067 -0.062]\n",
      " [-0.125 -0.111 -0.1   -0.091 -0.083 -0.077 -0.071 -0.067]\n",
      " [-0.143 -0.125 -0.111 -0.1   -0.091 -0.083 -0.077 -0.071]\n",
      " [-0.167 -0.143 -0.125 -0.111 -0.1   -0.091 -0.083 -0.077]\n",
      " [-0.2   -0.167 -0.143 -0.125 -0.111 -0.1   -0.091 -0.083]\n",
      " [-0.25  -0.2   -0.167 -0.143 -0.125 -0.111 -0.1   -0.091]\n",
      " [-0.333 -0.25  -0.2   -0.167 -0.143 -0.125 -0.111 -0.1  ]]\n"
     ]
    }
   ],
   "source": [
    "x = np.arange(8)\n",
    "y = x + 10\n",
    "c = 1 / np.subtract.outer(x, y)\n",
    "print(c)"
   ]
  },
  {
   "cell_type": "markdown",
   "metadata": {},
   "source": [
    "Найти минимальное и максимальное значение, принимаемое каждым числовым типом numpy:"
   ]
  },
  {
   "cell_type": "code",
   "execution_count": 204,
   "metadata": {},
   "outputs": [
    {
     "name": "stdout",
     "output_type": "stream",
     "text": [
      "<class 'numpy.int8'> -128 127\n",
      "<class 'numpy.int32'> -2147483648 2147483647\n",
      "<class 'numpy.int64'> -9223372036854775808 9223372036854775807\n",
      "<class 'numpy.float32'> -3.4028235e+38 3.4028235e+38\n",
      "<class 'numpy.float64'> -1.7976931348623157e+308 1.7976931348623157e+308\n"
     ]
    }
   ],
   "source": [
    "for dtype in [np.int8, np.int32, np.int64]:\n",
    "    print(dtype, np.iinfo(dtype).min, np.iinfo(dtype).max)\n",
    "for dtype in [np.float32, np.float64]:\n",
    "    print(dtype, np.finfo(dtype).min, np.finfo(dtype).max)"
   ]
  },
  {
   "cell_type": "markdown",
   "metadata": {},
   "source": [
    "Напечатать все значения в массиве:"
   ]
  },
  {
   "cell_type": "code",
   "execution_count": 209,
   "metadata": {},
   "outputs": [
    {
     "name": "stdout",
     "output_type": "stream",
     "text": [
      "[[1. 1. 1. 1. 1. 1. 1. 1. 1. 1. 1. 1. 1. 1. 1. 1. 1. 1. 1. 1.]\n",
      " [1. 1. 1. 1. 1. 1. 1. 1. 1. 1. 1. 1. 1. 1. 1. 1. 1. 1. 1. 1.]\n",
      " [1. 1. 1. 1. 1. 1. 1. 1. 1. 1. 1. 1. 1. 1. 1. 1. 1. 1. 1. 1.]\n",
      " [1. 1. 1. 1. 1. 1. 1. 1. 1. 1. 1. 1. 1. 1. 1. 1. 1. 1. 1. 1.]\n",
      " [1. 1. 1. 1. 1. 1. 1. 1. 1. 1. 1. 1. 1. 1. 1. 1. 1. 1. 1. 1.]\n",
      " [1. 1. 1. 1. 1. 1. 1. 1. 1. 1. 1. 1. 1. 1. 1. 1. 1. 1. 1. 1.]\n",
      " [1. 1. 1. 1. 1. 1. 1. 1. 1. 1. 1. 1. 1. 1. 1. 1. 1. 1. 1. 1.]\n",
      " [1. 1. 1. 1. 1. 1. 1. 1. 1. 1. 1. 1. 1. 1. 1. 1. 1. 1. 1. 1.]\n",
      " [1. 1. 1. 1. 1. 1. 1. 1. 1. 1. 1. 1. 1. 1. 1. 1. 1. 1. 1. 1.]\n",
      " [1. 1. 1. 1. 1. 1. 1. 1. 1. 1. 1. 1. 1. 1. 1. 1. 1. 1. 1. 1.]\n",
      " [1. 1. 1. 1. 1. 1. 1. 1. 1. 1. 1. 1. 1. 1. 1. 1. 1. 1. 1. 1.]\n",
      " [1. 1. 1. 1. 1. 1. 1. 1. 1. 1. 1. 1. 1. 1. 1. 1. 1. 1. 1. 1.]\n",
      " [1. 1. 1. 1. 1. 1. 1. 1. 1. 1. 1. 1. 1. 1. 1. 1. 1. 1. 1. 1.]\n",
      " [1. 1. 1. 1. 1. 1. 1. 1. 1. 1. 1. 1. 1. 1. 1. 1. 1. 1. 1. 1.]\n",
      " [1. 1. 1. 1. 1. 1. 1. 1. 1. 1. 1. 1. 1. 1. 1. 1. 1. 1. 1. 1.]\n",
      " [1. 1. 1. 1. 1. 1. 1. 1. 1. 1. 1. 1. 1. 1. 1. 1. 1. 1. 1. 1.]\n",
      " [1. 1. 1. 1. 1. 1. 1. 1. 1. 1. 1. 1. 1. 1. 1. 1. 1. 1. 1. 1.]\n",
      " [1. 1. 1. 1. 1. 1. 1. 1. 1. 1. 1. 1. 1. 1. 1. 1. 1. 1. 1. 1.]\n",
      " [1. 1. 1. 1. 1. 1. 1. 1. 1. 1. 1. 1. 1. 1. 1. 1. 1. 1. 1. 1.]\n",
      " [1. 1. 1. 1. 1. 1. 1. 1. 1. 1. 1. 1. 1. 1. 1. 1. 1. 1. 1. 1.]]\n"
     ]
    }
   ],
   "source": [
    "a = np.ones((20,20))\n",
    "np.set_printoptions(threshold=sys.maxsize)\n",
    "print(a)\n",
    "np.set_printoptions(threshold=100)"
   ]
  },
  {
   "cell_type": "markdown",
   "metadata": {},
   "source": [
    "Найти ближайшее к заданному значению число в заданном массиве:"
   ]
  },
  {
   "cell_type": "code",
   "execution_count": 210,
   "metadata": {},
   "outputs": [
    {
     "name": "stdout",
     "output_type": "stream",
     "text": [
      "1.2295410872554269\n",
      "1\n"
     ]
    }
   ],
   "source": [
    "a = np.arange(10)\n",
    "value = np.random.uniform(0,10)\n",
    "print(value)\n",
    "closest = abs(a-value).argmin()\n",
    "print(a[closest])"
   ]
  },
  {
   "cell_type": "markdown",
   "metadata": {},
   "source": [
    "Создать структурированный массив, представляющий координату (x,y) и цвет (r,g,b):"
   ]
  },
  {
   "cell_type": "code",
   "execution_count": 211,
   "metadata": {},
   "outputs": [
    {
     "name": "stdout",
     "output_type": "stream",
     "text": [
      "[((0., 0.), (0, 0, 0)) ((0., 0.), (0, 0, 0)) ((0., 0.), (0, 0, 0)) ((0., 0.), (0, 0, 0)) ((0., 0.), (0, 0, 0))]\n"
     ]
    }
   ],
   "source": [
    "a = np.zeros(5, [('position', [('x', float), ('y', float)]), \n",
    "                 ('color', [('r', int), ('g', int), ('b', int)])])\n",
    "print(a)"
   ]
  },
  {
   "cell_type": "markdown",
   "metadata": {},
   "source": [
    "Дан массив (100,2) координат, найти расстояние от каждой точки до каждой:"
   ]
  },
  {
   "cell_type": "code",
   "execution_count": 212,
   "metadata": {},
   "outputs": [
    {
     "name": "stdout",
     "output_type": "stream",
     "text": [
      "[[0.033 0.751]\n",
      " [0.628 0.909]\n",
      " [0.574 0.246]\n",
      " ...\n",
      " [0.34  0.21 ]\n",
      " [0.223 0.278]\n",
      " [0.365 0.422]]\n",
      "[[0.    0.616 0.74  ... 0.622 0.51  0.468]\n",
      " [0.616 0.    0.665 ... 0.757 0.75  0.554]\n",
      " [0.74  0.665 0.    ... 0.237 0.352 0.273]\n",
      " ...\n",
      " [0.622 0.757 0.237 ... 0.    0.135 0.213]\n",
      " [0.51  0.75  0.352 ... 0.135 0.    0.202]\n",
      " [0.468 0.554 0.273 ... 0.213 0.202 0.   ]]\n"
     ]
    }
   ],
   "source": [
    "dots = np.random.random((100, 2))\n",
    "print(dots)\n",
    "d = scipy.spatial.distance.cdist(dots, dots)\n",
    "print(d)"
   ]
  },
  {
   "cell_type": "markdown",
   "metadata": {},
   "source": [
    "Преобразовать массив из float в int:"
   ]
  },
  {
   "cell_type": "code",
   "execution_count": 213,
   "metadata": {},
   "outputs": [
    {
     "name": "stdout",
     "output_type": "stream",
     "text": [
      "[0. 1. 2. 3. 4. 5. 6. 7. 8. 9.]\n",
      "[0 1 2 3 4 5 6 7 8 9]\n"
     ]
    }
   ],
   "source": [
    "a = np.arange(10, dtype=np.float32)\n",
    "print(a)\n",
    "a = a.astype(np.int32)\n",
    "print(a)"
   ]
  },
  {
   "cell_type": "markdown",
   "metadata": {},
   "source": [
    "Дан файл:\n",
    "1,2,3,4,5\n",
    "6,,,7,8\n",
    ",,9,10,11\n",
    "Как прочитать его?"
   ]
  },
  {
   "cell_type": "code",
   "execution_count": 214,
   "metadata": {},
   "outputs": [
    {
     "name": "stdout",
     "output_type": "stream",
     "text": [
      "[[ 1.  2.  3.  4.  5.]\n",
      " [ 6. nan nan  7.  8.]\n",
      " [nan nan  9. 10. 11.]]\n"
     ]
    }
   ],
   "source": [
    "print(np.genfromtxt(\"lab2data.txt\", delimiter=\",\"))"
   ]
  },
  {
   "cell_type": "markdown",
   "metadata": {},
   "source": [
    "Каков эквивалент функции enumerate для numpy массивов?"
   ]
  },
  {
   "cell_type": "code",
   "execution_count": 215,
   "metadata": {},
   "outputs": [
    {
     "name": "stdout",
     "output_type": "stream",
     "text": [
      "(0, 0) 0\n",
      "(0, 1) 1\n",
      "(1, 0) 2\n",
      "(1, 1) 3\n",
      "\n",
      "(0, 0) 0\n",
      "(0, 1) 1\n",
      "(1, 0) 2\n",
      "(1, 1) 3\n"
     ]
    }
   ],
   "source": [
    "a = np.arange(4).reshape(2, 2)\n",
    "for index, value in np.ndenumerate(a):\n",
    "    print(index, value)\n",
    "print()\n",
    "for index in np.ndindex(a.shape):\n",
    "    print(index, a[index])"
   ]
  },
  {
   "cell_type": "markdown",
   "metadata": {},
   "source": [
    "Сформировать 2D массив с распределением Гаусса:"
   ]
  },
  {
   "cell_type": "code",
   "execution_count": 216,
   "metadata": {},
   "outputs": [
    {
     "name": "stdout",
     "output_type": "stream",
     "text": [
      "[[0.967 0.845 0.955 1.065 1.067]\n",
      " [1.097 1.086 0.938 1.09  0.913]\n",
      " [0.937 0.963 1.136 1.068 1.03 ]\n",
      " [0.906 0.924 1.165 1.068 1.062]\n",
      " [0.931 0.77  1.085 1.031 1.065]]\n"
     ]
    }
   ],
   "source": [
    "a = np.random.normal(1, 0.1, (5, 5))\n",
    "print(a)"
   ]
  },
  {
   "cell_type": "markdown",
   "metadata": {},
   "source": [
    "Случайно расположить p элементов в 2D массив:"
   ]
  },
  {
   "cell_type": "code",
   "execution_count": 224,
   "metadata": {},
   "outputs": [
    {
     "name": "stdout",
     "output_type": "stream",
     "text": [
      "[[0. 0. 0. 1. 0.]\n",
      " [0. 1. 0. 0. 0.]\n",
      " [0. 1. 0. 0. 0.]\n",
      " [0. 0. 0. 0. 0.]\n",
      " [1. 1. 0. 0. 0.]]\n"
     ]
    }
   ],
   "source": [
    "p = 5\n",
    "a = np.zeros((p,p))\n",
    "np.put(a, np.random.choice(range(p * p), p, replace=False), 1)\n",
    "print(a)"
   ]
  },
  {
   "cell_type": "markdown",
   "metadata": {},
   "source": [
    "Отнять среднее из каждой строки в матрице:"
   ]
  },
  {
   "cell_type": "code",
   "execution_count": 225,
   "metadata": {},
   "outputs": [
    {
     "name": "stdout",
     "output_type": "stream",
     "text": [
      "[[0.485 0.532 0.952]\n",
      " [0.66  0.557 0.59 ]\n",
      " [0.599 0.547 0.566]]\n",
      "[0.656 0.602 0.571]\n",
      "[[-0.125 -0.078  0.343]\n",
      " [ 0.05  -0.053 -0.02 ]\n",
      " [-0.01  -0.063 -0.044]]\n"
     ]
    }
   ],
   "source": [
    "a = np.random.rand(3, 3)\n",
    "print(a)\n",
    "print(a.mean(axis = 1))\n",
    "a = a - a.mean()\n",
    "print(a)"
   ]
  },
  {
   "cell_type": "markdown",
   "metadata": {},
   "source": [
    "Отсортировать матрицу по n-ому столбцу:"
   ]
  },
  {
   "cell_type": "code",
   "execution_count": 3,
   "metadata": {},
   "outputs": [
    {
     "name": "stdout",
     "output_type": "stream",
     "text": [
      "[[0.142 0.705 0.054 0.415 0.419]\n",
      " [0.34  0.815 0.889 0.151 0.874]\n",
      " [0.013 0.886 0.798 0.768 0.315]\n",
      " [0.749 0.238 0.637 0.699 0.707]\n",
      " [0.581 0.078 0.24  0.887 0.676]]\n",
      "[[0.142 0.705 0.054 0.415 0.419]\n",
      " [0.581 0.078 0.24  0.887 0.676]\n",
      " [0.749 0.238 0.637 0.699 0.707]\n",
      " [0.013 0.886 0.798 0.768 0.315]\n",
      " [0.34  0.815 0.889 0.151 0.874]]\n",
      "[[0.142 0.705 0.054 0.415 0.419]\n",
      " [0.013 0.886 0.798 0.768 0.315]\n",
      " [0.34  0.815 0.889 0.151 0.874]]\n"
     ]
    }
   ],
   "source": [
    "a = np.random.rand(5,5)\n",
    "n = 2\n",
    "print(a)\n",
    "print(a[a[:,n].argsort()])\n",
    "print(a[[0,2,1]])"
   ]
  },
  {
   "cell_type": "markdown",
   "metadata": {},
   "source": [
    "Определить, есть ли в 2D массиве нулевые столбцы:"
   ]
  },
  {
   "cell_type": "code",
   "execution_count": 227,
   "metadata": {},
   "outputs": [
    {
     "name": "stdout",
     "output_type": "stream",
     "text": [
      "[[0 0 0 1 0 1 0 1 0 0]\n",
      " [0 1 0 1 0 0 1 0 1 1]\n",
      " [1 1 0 0 1 0 1 0 0 1]]\n",
      "[False False  True False False False False False False False]\n",
      "True\n"
     ]
    }
   ],
   "source": [
    "a = np.random.randint(0, 2, (3, 10))\n",
    "print(a)\n",
    "print((~a.any(axis = 0)))\n",
    "print((~a.any(axis = 0)).any())"
   ]
  },
  {
   "cell_type": "markdown",
   "metadata": {},
   "source": [
    "Дан массив, добавить 1 к каждому элементу с индексом, заданным в другом массиве (осторожно с повторами):"
   ]
  },
  {
   "cell_type": "code",
   "execution_count": 228,
   "metadata": {},
   "outputs": [
    {
     "name": "stdout",
     "output_type": "stream",
     "text": [
      "[1. 1. 1. 1. 1. 1. 1. 1. 1. 1.]\n",
      "[0 8 0 4 5 9 0 6 4 2]\n",
      "[2. 1. 2. 1. 2. 2. 2. 1. 2. 2.]\n"
     ]
    }
   ],
   "source": [
    "a = np.ones(10)\n",
    "print(a)\n",
    "index = np.random.randint(0, len(a), 10)\n",
    "print(index)\n",
    "for i in range(len(a)):\n",
    "    if i in index:\n",
    "        a[i] += 1\n",
    "print(a)"
   ]
  },
  {
   "cell_type": "markdown",
   "metadata": {},
   "source": [
    "Дан массив (w,h,3) (картинка) dtype=ubyte, посчитать количество различных цветов:"
   ]
  },
  {
   "cell_type": "code",
   "execution_count": 229,
   "metadata": {},
   "outputs": [
    {
     "name": "stdout",
     "output_type": "stream",
     "text": [
      "8\n"
     ]
    }
   ],
   "source": [
    "w, h = 128, 128\n",
    "I = np.random.randint(0,2,(w,h,3)).astype(np.ubyte)\n",
    "F = I[...,0]*4 + I[...,1]*2 + I[...,2]\n",
    "print(len(np.unique(F)))"
   ]
  },
  {
   "cell_type": "markdown",
   "metadata": {},
   "source": [
    "Дан четырехмерный массив, посчитать сумму по последним двум осям:"
   ]
  },
  {
   "cell_type": "code",
   "execution_count": 230,
   "metadata": {},
   "outputs": [
    {
     "name": "stdout",
     "output_type": "stream",
     "text": [
      "[[[[7 5 5]\n",
      "   [1 9 1]\n",
      "   [1 7 2]]\n",
      "\n",
      "  [[7 8 2]\n",
      "   [3 7 4]\n",
      "   [9 5 2]]]\n",
      "\n",
      "\n",
      " [[[9 7 6]\n",
      "   [6 6 0]\n",
      "   [2 8 8]]\n",
      "\n",
      "  [[4 0 4]\n",
      "   [5 1 5]\n",
      "   [7 7 2]]]]\n",
      "[[38 47]\n",
      " [52 35]]\n"
     ]
    }
   ],
   "source": [
    "a = np.random.randint(0, 10, (2,2,3,3))\n",
    "print(a)\n",
    "sum = a.sum(axis=(-2,-1))\n",
    "print(sum)"
   ]
  },
  {
   "cell_type": "markdown",
   "metadata": {},
   "source": [
    "Найти диагональные элементы произведения матриц:"
   ]
  },
  {
   "cell_type": "code",
   "execution_count": 231,
   "metadata": {},
   "outputs": [
    {
     "name": "stdout",
     "output_type": "stream",
     "text": [
      "[[3 4 4]\n",
      " [4 1 4]\n",
      " [4 0 4]]\n",
      "[[1 3 3]\n",
      " [3 2 0]\n",
      " [4 3 1]]\n",
      "[31 26 16]\n"
     ]
    }
   ],
   "source": [
    "a = np.random.randint(0, 5, (3, 3))\n",
    "print(a)\n",
    "b = np.random.randint(0, 5, (3, 3))\n",
    "print(b)\n",
    "print(np.diag(a.dot(b)))"
   ]
  }
 ],
 "metadata": {
  "kernelspec": {
   "display_name": "Python 3",
   "language": "python",
   "name": "python3"
  },
  "language_info": {
   "codemirror_mode": {
    "name": "ipython",
    "version": 3
   },
   "file_extension": ".py",
   "mimetype": "text/x-python",
   "name": "python",
   "nbconvert_exporter": "python",
   "pygments_lexer": "ipython3",
   "version": "3.8.3"
  }
 },
 "nbformat": 4,
 "nbformat_minor": 4
}
