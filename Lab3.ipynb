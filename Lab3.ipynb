{
 "cells": [
  {
   "cell_type": "markdown",
   "metadata": {},
   "source": [
    "# Лабораторная работа №3"
   ]
  },
  {
   "cell_type": "markdown",
   "metadata": {},
   "source": [
    "Выполнил студент группы М8О-103М-20 Ларин Антон"
   ]
  },
  {
   "cell_type": "markdown",
   "metadata": {},
   "source": [
    "Импорт необходимых библиотек и установка настроек вывода данных:"
   ]
  },
  {
   "cell_type": "code",
   "execution_count": 2,
   "metadata": {},
   "outputs": [],
   "source": [
    "import numpy as np\n",
    "import sys\n",
    "import scipy.spatial\n",
    "import matplotlib.pyplot as plt\n",
    "from numpy.lib import stride_tricks\n",
    "np.set_printoptions(linewidth=200, precision=3, threshold=256)"
   ]
  },
  {
   "cell_type": "markdown",
   "metadata": {},
   "source": [
    "Дан вектор [1, 2, 3, 4, 5], построить новый вектор с тремя нулями между каждым значением"
   ]
  },
  {
   "cell_type": "code",
   "execution_count": 77,
   "metadata": {},
   "outputs": [
    {
     "name": "stdout",
     "output_type": "stream",
     "text": [
      "[1. 0. 0. 0. 2. 0. 0. 0. 3. 0. 0. 0. 4. 0. 0. 0. 5.]\n"
     ]
    }
   ],
   "source": [
    "a = np.arange(5) + 1\n",
    "az = np.zeros(len(a) + (len(a) - 1) * 3)\n",
    "az[::len(a) - 1] = a\n",
    "print(az)"
   ]
  },
  {
   "cell_type": "markdown",
   "metadata": {},
   "source": [
    "Поменять 2 строки в матрице"
   ]
  },
  {
   "cell_type": "code",
   "execution_count": 13,
   "metadata": {},
   "outputs": [
    {
     "name": "stdout",
     "output_type": "stream",
     "text": [
      "[[0 1 2]\n",
      " [3 4 5]\n",
      " [6 7 8]]\n",
      "[[6 7 8]\n",
      " [3 4 5]\n",
      " [0 1 2]]\n"
     ]
    }
   ],
   "source": [
    "a = np.arange(9).reshape(3,3)\n",
    "print(a)\n",
    "a[[0,2]] = a[[2,0]]\n",
    "print(a)"
   ]
  },
  {
   "cell_type": "markdown",
   "metadata": {},
   "source": [
    "Рассмотрим набор из 10 троек, описывающих 10 треугольников (с общими вершинами), найти множество уникальных отрезков, составляющих все треугольники"
   ]
  },
  {
   "cell_type": "code",
   "execution_count": 23,
   "metadata": {},
   "outputs": [
    {
     "name": "stdout",
     "output_type": "stream",
     "text": [
      "[[9 8 1]\n",
      " [4 3 9]\n",
      " [3 3 9]\n",
      " [7 3 7]\n",
      " [2 5 0]\n",
      " [4 0 6]\n",
      " [8 7 5]\n",
      " [4 0 6]\n",
      " [0 1 1]\n",
      " [1 6 1]]\n",
      "[(0, 1) (0, 2) (0, 4) (0, 5) (0, 6) (1, 1) (1, 6) (1, 8) (1, 9) (2, 5) (3, 3) (3, 4) (3, 7) (3, 9) (4, 6) (4, 9) (5, 7) (5, 8) (7, 7) (7, 8) (8, 9)]\n"
     ]
    }
   ],
   "source": [
    "triangles = np.random.randint(0,10,(10,3))\n",
    "print(triangles)\n",
    "#повторяем дважды каждый элемент массива и сдвигаем влево на 1\n",
    "temp = np.roll(triangles.repeat(2,axis=1),-1,axis=1)\n",
    "pairs = temp.reshape(len(temp)*3,2)\n",
    "pairs = np.sort(pairs,axis=1)\n",
    "#сортируем пары точек (отрезки) от большего к меньшему\n",
    "pairs = pairs.view( dtype=[('vertex1',pairs.dtype),('vertex2',pairs.dtype)] )\n",
    "print(np.unique(pairs))"
   ]
  },
  {
   "cell_type": "markdown",
   "metadata": {},
   "source": [
    "Дан массив C; создать массив A, что np.bincount(A) == C"
   ]
  },
  {
   "cell_type": "code",
   "execution_count": 17,
   "metadata": {},
   "outputs": [
    {
     "name": "stdout",
     "output_type": "stream",
     "text": [
      "[3 5 4 2 6]\n",
      "[0 0 0 1 1 1 1 1 2 2 2 2 3 3 4 4 4 4 4 4]\n",
      "True\n"
     ]
    }
   ],
   "source": [
    "c = np.random.randint(0, 10, 5)\n",
    "print(c)\n",
    "a = np.repeat(np.arange(len(c)), c)\n",
    "print(a)\n",
    "print((np.bincount(a) == c).all())"
   ]
  },
  {
   "cell_type": "markdown",
   "metadata": {},
   "source": [
    "Посчитать среднее, используя плавающее окно"
   ]
  },
  {
   "cell_type": "code",
   "execution_count": 7,
   "metadata": {},
   "outputs": [
    {
     "data": {
      "image/png": "[encoded data removed]",
      "text/plain": [
       "<Figure size 432x288 with 1 Axes>"
      ]
     },
     "metadata": {
      "needs_background": "light"
     },
     "output_type": "display_data"
    },
    {
     "data": {
      "image/png": "[encoded data removed]",
      "text/plain": [
       "<Figure size 432x288 with 1 Axes>"
      ]
     },
     "metadata": {
      "needs_background": "light"
     },
     "output_type": "display_data"
    }
   ],
   "source": [
    "n = 4\n",
    "a = np.random.randint(0, 20, 15)\n",
    "plt.plot(a)\n",
    "plt.show()\n",
    "\n",
    "ma = np.cumsum(a)\n",
    "ma[n:] -= ma[:-n]\n",
    "result = np.concatenate((np.repeat(0, n - 1), ma[n - 1:] / n))\n",
    "plt.plot(result)\n",
    "plt.show()"
   ]
  },
  {
   "cell_type": "markdown",
   "metadata": {},
   "source": [
    "Дан вектор Z, построить матрицу, первая строка которой (Z[0],Z[1],Z[2]), каждая последующая сдвинута на 1 (последняя (Z[-3],Z[-2],Z[-1]))"
   ]
  },
  {
   "cell_type": "code",
   "execution_count": 25,
   "metadata": {},
   "outputs": [
    {
     "name": "stdout",
     "output_type": "stream",
     "text": [
      "[[0 1 2]\n",
      " [1 2 3]\n",
      " [2 3 4]\n",
      " [3 4 5]\n",
      " [4 5 6]\n",
      " [5 6 7]\n",
      " [6 7 8]\n",
      " [7 8 9]]\n"
     ]
    }
   ],
   "source": [
    "z = np.arange(10)\n",
    "k = 3\n",
    "zm = stride_tricks.as_strided(z,\n",
    "                              shape=(z.size - k + 1, k),\n",
    "                              strides=(z.itemsize, z.itemsize)\n",
    ")\n",
    "print(zm)"
   ]
  },
  {
   "cell_type": "markdown",
   "metadata": {},
   "source": [
    "Инвертировать булево значение, или поменять знак у числового массива без создания нового"
   ]
  },
  {
   "cell_type": "code",
   "execution_count": 23,
   "metadata": {},
   "outputs": [
    {
     "name": "stdout",
     "output_type": "stream",
     "text": [
      "[False  True False  True False False  True False  True False]\n",
      "[ True False  True False  True  True False  True False  True]\n",
      "[-2.858  2.149 -2.05   2.288 -0.294 -2.003 -4.714 -0.248 -1.251  1.172]\n",
      "[ 2.858 -2.149  2.05  -2.288  0.294  2.003  4.714  0.248  1.251 -1.172]\n"
     ]
    }
   ],
   "source": [
    "a = np.random.randint(0,2,10).astype(bool)\n",
    "print(a)\n",
    "print(np.logical_not(a).astype(bool))\n",
    "\n",
    "a = np.random.uniform(-5, 5, 10)\n",
    "print(a)\n",
    "print(np.negative(a))"
   ]
  },
  {
   "cell_type": "markdown",
   "metadata": {},
   "source": [
    "Посчитать ранг матрицы"
   ]
  },
  {
   "cell_type": "code",
   "execution_count": 31,
   "metadata": {},
   "outputs": [
    {
     "name": "stdout",
     "output_type": "stream",
     "text": [
      "[[ 2  3  7 11]\n",
      " [ 1  2  4  7]\n",
      " [ 5  0 10  5]]\n",
      "2\n"
     ]
    }
   ],
   "source": [
    "a = np.array([[2, 3, 7, 11], [1, 2, 4, 7], [5, 0, 10, 5]])\n",
    "print(a)\n",
    "print(np.linalg.matrix_rank(a))"
   ]
  },
  {
   "cell_type": "markdown",
   "metadata": {},
   "source": [
    "Найти наиболее частое значение в массиве"
   ]
  },
  {
   "cell_type": "code",
   "execution_count": 38,
   "metadata": {},
   "outputs": [
    {
     "name": "stdout",
     "output_type": "stream",
     "text": [
      "[0 8 7 6 3 7 3 1 3 6]\n",
      "3\n"
     ]
    }
   ],
   "source": [
    "a = np.random.randint(0,10,10)\n",
    "print(a)\n",
    "print(np.bincount(a).argmax())"
   ]
  },
  {
   "cell_type": "markdown",
   "metadata": {},
   "source": [
    "Извлечь все смежные 3x3 блоки из 10x10 матрицы"
   ]
  },
  {
   "cell_type": "code",
   "execution_count": 88,
   "metadata": {},
   "outputs": [
    {
     "name": "stdout",
     "output_type": "stream",
     "text": [
      "[[6 8 5 9 1 6 8 9 6 6]\n",
      " [2 9 2 8 8 6 9 6 3 9]\n",
      " [6 4 7 2 5 3 1 0 7 7]\n",
      " [5 5 9 7 4 7 5 7 5 7]\n",
      " [5 2 1 6 8 5 1 0 9 0]\n",
      " [0 5 2 5 6 2 6 1 6 7]\n",
      " [2 6 9 9 1 5 9 0 0 2]\n",
      " [9 4 2 7 7 4 1 3 8 3]\n",
      " [5 6 4 0 0 3 4 6 4 7]\n",
      " [5 0 2 6 6 2 9 6 2 4]]\n",
      "[[[[6 8 5]\n",
      "   [2 9 2]\n",
      "   [6 4 7]]\n",
      "\n",
      "  [[8 5 9]\n",
      "   [9 2 8]\n",
      "   [4 7 2]]\n",
      "\n",
      "  [[5 9 1]\n",
      "   [2 8 8]\n",
      "   [7 2 5]]\n",
      "\n",
      "  ...\n",
      "\n",
      "  [[6 8 9]\n",
      "   [6 9 6]\n",
      "   [3 1 0]]\n",
      "\n",
      "  [[8 9 6]\n",
      "   [9 6 3]\n",
      "   [1 0 7]]\n",
      "\n",
      "  [[9 6 6]\n",
      "   [6 3 9]\n",
      "   [0 7 7]]]\n",
      "\n",
      "\n",
      " [[[2 9 2]\n",
      "   [6 4 7]\n",
      "   [5 5 9]]\n",
      "\n",
      "  [[9 2 8]\n",
      "   [4 7 2]\n",
      "   [5 9 7]]\n",
      "\n",
      "  [[2 8 8]\n",
      "   [7 2 5]\n",
      "   [9 7 4]]\n",
      "\n",
      "  ...\n",
      "\n",
      "  [[6 9 6]\n",
      "   [3 1 0]\n",
      "   [7 5 7]]\n",
      "\n",
      "  [[9 6 3]\n",
      "   [1 0 7]\n",
      "   [5 7 5]]\n",
      "\n",
      "  [[6 3 9]\n",
      "   [0 7 7]\n",
      "   [7 5 7]]]\n",
      "\n",
      "\n",
      " [[[6 4 7]\n",
      "   [5 5 9]\n",
      "   [5 2 1]]\n",
      "\n",
      "  [[4 7 2]\n",
      "   [5 9 7]\n",
      "   [2 1 6]]\n",
      "\n",
      "  [[7 2 5]\n",
      "   [9 7 4]\n",
      "   [1 6 8]]\n",
      "\n",
      "  ...\n",
      "\n",
      "  [[3 1 0]\n",
      "   [7 5 7]\n",
      "   [5 1 0]]\n",
      "\n",
      "  [[1 0 7]\n",
      "   [5 7 5]\n",
      "   [1 0 9]]\n",
      "\n",
      "  [[0 7 7]\n",
      "   [7 5 7]\n",
      "   [0 9 0]]]\n",
      "\n",
      "\n",
      " ...\n",
      "\n",
      "\n",
      " [[[0 5 2]\n",
      "   [2 6 9]\n",
      "   [9 4 2]]\n",
      "\n",
      "  [[5 2 5]\n",
      "   [6 9 9]\n",
      "   [4 2 7]]\n",
      "\n",
      "  [[2 5 6]\n",
      "   [9 9 1]\n",
      "   [2 7 7]]\n",
      "\n",
      "  ...\n",
      "\n",
      "  [[2 6 1]\n",
      "   [5 9 0]\n",
      "   [4 1 3]]\n",
      "\n",
      "  [[6 1 6]\n",
      "   [9 0 0]\n",
      "   [1 3 8]]\n",
      "\n",
      "  [[1 6 7]\n",
      "   [0 0 2]\n",
      "   [3 8 3]]]\n",
      "\n",
      "\n",
      " [[[2 6 9]\n",
      "   [9 4 2]\n",
      "   [5 6 4]]\n",
      "\n",
      "  [[6 9 9]\n",
      "   [4 2 7]\n",
      "   [6 4 0]]\n",
      "\n",
      "  [[9 9 1]\n",
      "   [2 7 7]\n",
      "   [4 0 0]]\n",
      "\n",
      "  ...\n",
      "\n",
      "  [[5 9 0]\n",
      "   [4 1 3]\n",
      "   [3 4 6]]\n",
      "\n",
      "  [[9 0 0]\n",
      "   [1 3 8]\n",
      "   [4 6 4]]\n",
      "\n",
      "  [[0 0 2]\n",
      "   [3 8 3]\n",
      "   [6 4 7]]]\n",
      "\n",
      "\n",
      " [[[9 4 2]\n",
      "   [5 6 4]\n",
      "   [5 0 2]]\n",
      "\n",
      "  [[4 2 7]\n",
      "   [6 4 0]\n",
      "   [0 2 6]]\n",
      "\n",
      "  [[2 7 7]\n",
      "   [4 0 0]\n",
      "   [2 6 6]]\n",
      "\n",
      "  ...\n",
      "\n",
      "  [[4 1 3]\n",
      "   [3 4 6]\n",
      "   [2 9 6]]\n",
      "\n",
      "  [[1 3 8]\n",
      "   [4 6 4]\n",
      "   [9 6 2]]\n",
      "\n",
      "  [[3 8 3]\n",
      "   [6 4 7]\n",
      "   [6 2 4]]]]\n"
     ]
    }
   ],
   "source": [
    "a = np.random.randint(0, 10, (10, 10))\n",
    "print(a)\n",
    "n = 3\n",
    "subBlocks = stride_tricks.as_strided(\n",
    "    a, \n",
    "    shape=(a.shape[0] - n + 1, a.shape[1] - n + 1, n, n), \n",
    "    strides=a.strides + a.strides)\n",
    "print(subBlocks)"
   ]
  },
  {
   "cell_type": "markdown",
   "metadata": {},
   "source": [
    "Рассмотрим множество матриц (n,n) и множество из p векторов (n,1). Посчитать сумму p произведений матриц (результат имеет размерность (n,1))"
   ]
  },
  {
   "cell_type": "code",
   "execution_count": 57,
   "metadata": {},
   "outputs": [
    {
     "name": "stdout",
     "output_type": "stream",
     "text": [
      "[[[1. 1. 1. ... 1. 1. 1.]\n",
      "  [1. 1. 1. ... 1. 1. 1.]\n",
      "  [1. 1. 1. ... 1. 1. 1.]\n",
      "  ...\n",
      "  [1. 1. 1. ... 1. 1. 1.]\n",
      "  [1. 1. 1. ... 1. 1. 1.]\n",
      "  [1. 1. 1. ... 1. 1. 1.]]\n",
      "\n",
      " [[1. 1. 1. ... 1. 1. 1.]\n",
      "  [1. 1. 1. ... 1. 1. 1.]\n",
      "  [1. 1. 1. ... 1. 1. 1.]\n",
      "  ...\n",
      "  [1. 1. 1. ... 1. 1. 1.]\n",
      "  [1. 1. 1. ... 1. 1. 1.]\n",
      "  [1. 1. 1. ... 1. 1. 1.]]\n",
      "\n",
      " [[1. 1. 1. ... 1. 1. 1.]\n",
      "  [1. 1. 1. ... 1. 1. 1.]\n",
      "  [1. 1. 1. ... 1. 1. 1.]\n",
      "  ...\n",
      "  [1. 1. 1. ... 1. 1. 1.]\n",
      "  [1. 1. 1. ... 1. 1. 1.]\n",
      "  [1. 1. 1. ... 1. 1. 1.]]\n",
      "\n",
      " [[1. 1. 1. ... 1. 1. 1.]\n",
      "  [1. 1. 1. ... 1. 1. 1.]\n",
      "  [1. 1. 1. ... 1. 1. 1.]\n",
      "  ...\n",
      "  [1. 1. 1. ... 1. 1. 1.]\n",
      "  [1. 1. 1. ... 1. 1. 1.]\n",
      "  [1. 1. 1. ... 1. 1. 1.]]\n",
      "\n",
      " [[1. 1. 1. ... 1. 1. 1.]\n",
      "  [1. 1. 1. ... 1. 1. 1.]\n",
      "  [1. 1. 1. ... 1. 1. 1.]\n",
      "  ...\n",
      "  [1. 1. 1. ... 1. 1. 1.]\n",
      "  [1. 1. 1. ... 1. 1. 1.]\n",
      "  [1. 1. 1. ... 1. 1. 1.]]]\n",
      "[[1. 1. 1. 1. 1. 1. 1. 1. 1. 1.]\n",
      " [1. 1. 1. 1. 1. 1. 1. 1. 1. 1.]\n",
      " [1. 1. 1. 1. 1. 1. 1. 1. 1. 1.]\n",
      " [1. 1. 1. 1. 1. 1. 1. 1. 1. 1.]\n",
      " [1. 1. 1. 1. 1. 1. 1. 1. 1. 1.]]\n",
      "[50. 50. 50. 50. 50. 50. 50. 50. 50. 50.]\n"
     ]
    }
   ],
   "source": [
    "p, n = 5, 10\n",
    "matricesArray = np.ones((p,n,n))\n",
    "vectorsArray = np.ones((p,n))\n",
    "print(matricesArray)\n",
    "print(vectorsArray)\n",
    "prodArray = np.einsum('ijk,ik->k', matricesArray, vectorsArray)\n",
    "print(prodArray)"
   ]
  },
  {
   "cell_type": "markdown",
   "metadata": {},
   "source": [
    "Дан массив 16x16, посчитать сумму по блокам 4x4"
   ]
  },
  {
   "cell_type": "code",
   "execution_count": 87,
   "metadata": {},
   "outputs": [
    {
     "name": "stdout",
     "output_type": "stream",
     "text": [
      "[[2 2 0 0 1 0 0 2 1 0 0 0 1 0 0 2]\n",
      " [1 1 1 0 0 1 0 2 1 1 1 1 2 2 1 2]\n",
      " [2 0 2 0 0 2 0 2 0 0 0 0 2 1 1 1]\n",
      " [2 1 0 1 1 1 0 0 2 0 0 1 0 2 2 0]\n",
      " [1 0 1 2 0 2 2 0 0 0 2 0 2 1 1 2]\n",
      " [2 0 0 0 2 2 0 2 1 0 1 0 0 0 0 2]\n",
      " [0 2 2 1 2 1 2 2 1 0 1 1 2 1 2 0]\n",
      " [2 0 2 2 2 1 2 2 0 1 2 0 0 0 0 1]\n",
      " [0 1 0 1 0 1 0 2 0 1 0 0 0 1 0 0]\n",
      " [0 0 0 1 1 1 2 1 1 0 1 0 1 0 2 2]\n",
      " [2 2 1 2 1 1 1 0 1 0 2 0 0 0 2 0]\n",
      " [0 1 1 2 2 1 0 1 0 0 0 2 0 2 1 0]\n",
      " [2 2 0 2 1 2 1 2 0 0 2 0 1 0 0 1]\n",
      " [0 0 0 2 0 2 2 0 1 0 0 1 2 0 1 0]\n",
      " [0 1 1 2 1 1 0 2 1 0 2 0 1 1 0 1]\n",
      " [0 1 1 1 0 0 0 2 0 1 0 2 2 0 0 2]]\n",
      "[[15 10 10  7 12 14 11 12  8  9 13 16 19]\n",
      " [15 10 14 12 13 15 10 11  9 12 17 19 22]\n",
      " [14 10 16 15 16 16  9 10  7  8 12 13 17]\n",
      " [15 15 18 19 19 18 12 12 10 10 14 15 17]\n",
      " [17 18 22 23 24 20 15 15 10 12 13 10 14]\n",
      " [15 17 19 19 23 19 16 16  9  9  9  7  9]\n",
      " [14 17 18 20 22 19 17 15  9 10 10 10 12]\n",
      " [16 16 17 19 18 16 14 14  9  8  7  6  9]\n",
      " [14 16 16 17 15 13 10 10  8  7  9 11 11]\n",
      " [18 19 19 21 18 15 10 11  9  9 11 11 12]\n",
      " [19 19 20 22 17 15  9  9  9 10 12 12 10]\n",
      " [16 18 20 21 18 16 10 11  9 11 14 12 11]\n",
      " [15 15 16 17 16 16 12 13 10 14 14 11 12]]\n"
     ]
    }
   ],
   "source": [
    "a = np.random.randint(0, 3, (16, 16))\n",
    "print(a)\n",
    "n = 4\n",
    "subBlocks = stride_tricks.as_strided(\n",
    "    a, \n",
    "    shape=(a.shape[0] - n + 1, a.shape[1] - n + 1, n, n), \n",
    "    strides=a.strides + a.strides\n",
    ")\n",
    "print(np.sum(subBlocks, axis = (-2, -1)))"
   ]
  },
  {
   "cell_type": "markdown",
   "metadata": {},
   "source": [
    "Найти n наибольших значений в массиве"
   ]
  },
  {
   "cell_type": "code",
   "execution_count": 197,
   "metadata": {},
   "outputs": [
    {
     "name": "stdout",
     "output_type": "stream",
     "text": [
      "[74 93 98 26 88 10 58 24 48  2]\n",
      "[58 74 93 98 88]\n"
     ]
    }
   ],
   "source": [
    "n = 5\n",
    "a = np.random.randint(0,100,10)\n",
    "print(a)\n",
    "print (a[np.argpartition(a, n)][len(a) - n:])"
   ]
  },
  {
   "cell_type": "markdown",
   "metadata": {},
   "source": [
    "Построить прямое произведение массивов (все комбинации с каждым элементом)"
   ]
  },
  {
   "cell_type": "code",
   "execution_count": 170,
   "metadata": {},
   "outputs": [
    {
     "name": "stdout",
     "output_type": "stream",
     "text": [
      "[[array([4, 1, 3])], [array([3, 0, 2])]]\n",
      "[[4 3]\n",
      " [4 0]\n",
      " [4 2]\n",
      " [1 3]\n",
      " [1 0]\n",
      " [1 2]\n",
      " [3 3]\n",
      " [3 0]\n",
      " [3 2]]\n"
     ]
    }
   ],
   "source": [
    "a = [[np.random.randint(0, 5, 3)] for i in range(2)]\n",
    "print(a)\n",
    "print(np.array(np.meshgrid(a[0], a[1])).T.reshape(-1, 2))"
   ]
  },
  {
   "cell_type": "markdown",
   "metadata": {},
   "source": [
    "Даны 2 массива A (8x3) и B (2x2). Найти строки в A, которые содержат элементы из каждой строки в B, независимо от порядка элементов в B"
   ]
  },
  {
   "cell_type": "code",
   "execution_count": 174,
   "metadata": {},
   "outputs": [
    {
     "name": "stdout",
     "output_type": "stream",
     "text": [
      "[[0 0 3]\n",
      " [2 4 0]\n",
      " [0 1 3]\n",
      " [3 3 2]\n",
      " [0 4 2]\n",
      " [2 1 4]\n",
      " [4 0 0]\n",
      " [3 4 4]]\n",
      "[[0 4]\n",
      " [3 1]]\n",
      "[[0 0 3]\n",
      " [0 1 3]\n",
      " [2 1 4]\n",
      " [3 4 4]]\n"
     ]
    }
   ],
   "source": [
    "a = np.random.randint(0,5,(8,3))\n",
    "b = np.random.randint(0,5,(2,2))\n",
    "print(a)\n",
    "print(b)\n",
    "c = (a[..., np.newaxis, np.newaxis] == b)\n",
    "rows = np.where(c.any((1,3)).all(1))[0]\n",
    "print(a[rows])"
   ]
  },
  {
   "cell_type": "markdown",
   "metadata": {},
   "source": [
    "Дана 10x3 матрица, найти строки из неравных значений (например [2,2,3])"
   ]
  },
  {
   "cell_type": "code",
   "execution_count": 101,
   "metadata": {},
   "outputs": [
    {
     "name": "stdout",
     "output_type": "stream",
     "text": [
      "[[0 1 1]\n",
      " [2 1 2]\n",
      " [2 2 2]\n",
      " [0 2 0]\n",
      " [2 0 0]\n",
      " [2 2 1]\n",
      " [2 0 2]\n",
      " [0 0 1]\n",
      " [2 2 2]\n",
      " [2 2 2]]\n",
      "[[0 1 1]\n",
      " [2 1 2]\n",
      " [0 2 0]\n",
      " [2 0 0]\n",
      " [2 2 1]\n",
      " [2 0 2]\n",
      " [0 0 1]]\n"
     ]
    }
   ],
   "source": [
    "a = np.random.randint(0, 3, (10, 3))\n",
    "print(a)\n",
    "print(a[~np.logical_and.reduce(a[:,1:] == a[:,:-1], axis=1)])"
   ]
  },
  {
   "cell_type": "markdown",
   "metadata": {},
   "source": [
    "Преобразовать вектор чисел в матрицу бинарных представлений"
   ]
  },
  {
   "cell_type": "code",
   "execution_count": 27,
   "metadata": {},
   "outputs": [
    {
     "name": "stdout",
     "output_type": "stream",
     "text": [
      "[31  8 42 60 38]\n",
      "[[0 0 0 1 1 1 1 1]\n",
      " [0 0 0 0 1 0 0 0]\n",
      " [0 0 1 0 1 0 1 0]\n",
      " [0 0 1 1 1 1 0 0]\n",
      " [0 0 1 0 0 1 1 0]]\n"
     ]
    }
   ],
   "source": [
    "a = np.random.randint(0, 64, 5, dtype=np.uint8)\n",
    "print(a)\n",
    "print(np.unpackbits(a).reshape(-1, 8))"
   ]
  },
  {
   "cell_type": "markdown",
   "metadata": {},
   "source": [
    "Дан двумерный массив. Найти все различные строки"
   ]
  },
  {
   "cell_type": "code",
   "execution_count": 104,
   "metadata": {},
   "outputs": [
    {
     "name": "stdout",
     "output_type": "stream",
     "text": [
      "[[2 2 2]\n",
      " [1 0 2]\n",
      " [1 1 2]\n",
      " [0 2 1]\n",
      " [2 1 0]\n",
      " [1 1 0]\n",
      " [0 2 1]\n",
      " [1 1 0]\n",
      " [1 1 2]\n",
      " [0 2 1]]\n",
      "[[0 2 1]\n",
      " [1 0 2]\n",
      " [1 1 0]\n",
      " [1 1 2]\n",
      " [2 1 0]\n",
      " [2 2 2]]\n"
     ]
    }
   ],
   "source": [
    "a = np.random.randint(0, 3, (10, 3))\n",
    "print(a)\n",
    "print(np.unique(a, axis = 0))"
   ]
  },
  {
   "cell_type": "markdown",
   "metadata": {},
   "source": [
    "Даны векторы A и B, написать einsum эквиваленты функций inner, outer, sum и mul"
   ]
  },
  {
   "cell_type": "code",
   "execution_count": 216,
   "metadata": {},
   "outputs": [
    {
     "name": "stdout",
     "output_type": "stream",
     "text": [
      "[0 1 2 3 4]\n",
      "[5 6 7 8 9]\n",
      "inner:\n",
      "80\n",
      "outer:\n",
      "[[ 0  0  0  0  0]\n",
      " [ 5  6  7  8  9]\n",
      " [10 12 14 16 18]\n",
      " [15 18 21 24 27]\n",
      " [20 24 28 32 36]]\n",
      "sum:\n",
      "10 35\n",
      "mul:\n",
      "[ 0  6 14 24 36]\n"
     ]
    }
   ],
   "source": [
    "a, b = np.arange(5), np.arange(5) + 5\n",
    "print(a)\n",
    "print(b)\n",
    "print(\"inner:\")\n",
    "print(np.einsum(\"i,i->\", a, b))\n",
    "print(\"outer:\")\n",
    "print(np.einsum(\"i,j->ij\", a, b))\n",
    "print(\"sum:\")\n",
    "print(np.einsum(\"i->\", a), np.einsum(\"i->\", b))\n",
    "print(\"mul:\")\n",
    "print(np.einsum(\"i,i->i\", a, b))"
   ]
  }
 ],
 "metadata": {
  "kernelspec": {
   "display_name": "Python 3",
   "language": "python",
   "name": "python3"
  },
  "language_info": {
   "codemirror_mode": {
    "name": "ipython",
    "version": 3
   },
   "file_extension": ".py",
   "mimetype": "text/x-python",
   "name": "python",
   "nbconvert_exporter": "python",
   "pygments_lexer": "ipython3",
   "version": "3.8.3"
  }
 },
 "nbformat": 4,
 "nbformat_minor": 4
}
